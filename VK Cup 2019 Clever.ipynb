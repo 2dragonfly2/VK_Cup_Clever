{
 "cells": [
  {
   "cell_type": "code",
   "execution_count": 2,
   "metadata": {},
   "outputs": [],
   "source": [
    "import pandas as pd\n",
    "import numpy as np\n",
    "\n",
    "import matplotlib.pyplot as plt\n",
    "%matplotlib inline\n",
    "import matplotlib\n",
    "matplotlib.style.use('ggplot')\n",
    "\n",
    "from sklearn import metrics \n",
    "from sklearn.feature_extraction.text import CountVectorizer "
   ]
  },
  {
   "cell_type": "code",
   "execution_count": 3,
   "metadata": {},
   "outputs": [
    {
     "name": "stdout",
     "output_type": "stream",
     "text": [
      "<class 'pandas.core.frame.DataFrame'>\n",
      "RangeIndex: 41087 entries, 0 to 41086\n",
      "Data columns (total 2 columns):\n",
      " #   Column    Non-Null Count  Dtype \n",
      "---  ------    --------------  ----- \n",
      " 0   ID        41087 non-null  int64 \n",
      " 1   Question  41087 non-null  object\n",
      "dtypes: int64(1), object(1)\n",
      "memory usage: 642.1+ KB\n",
      "None\n"
     ]
    },
    {
     "data": {
      "text/html": [
       "<div>\n",
       "<style scoped>\n",
       "    .dataframe tbody tr th:only-of-type {\n",
       "        vertical-align: middle;\n",
       "    }\n",
       "\n",
       "    .dataframe tbody tr th {\n",
       "        vertical-align: top;\n",
       "    }\n",
       "\n",
       "    .dataframe thead th {\n",
       "        text-align: right;\n",
       "    }\n",
       "</style>\n",
       "<table border=\"1\" class=\"dataframe\">\n",
       "  <thead>\n",
       "    <tr style=\"text-align: right;\">\n",
       "      <th></th>\n",
       "      <th>ID</th>\n",
       "      <th>Question</th>\n",
       "    </tr>\n",
       "  </thead>\n",
       "  <tbody>\n",
       "    <tr>\n",
       "      <th>0</th>\n",
       "      <td>1</td>\n",
       "      <td>Как зовут лодочника на реке Стикс в древнегреч...</td>\n",
       "    </tr>\n",
       "    <tr>\n",
       "      <th>1</th>\n",
       "      <td>2</td>\n",
       "      <td>Как в химии обозначается свинец?</td>\n",
       "    </tr>\n",
       "    <tr>\n",
       "      <th>2</th>\n",
       "      <td>3</td>\n",
       "      <td>Какой химический элемент преобладает в составе...</td>\n",
       "    </tr>\n",
       "    <tr>\n",
       "      <th>3</th>\n",
       "      <td>4</td>\n",
       "      <td>Кто из перечисленных был пажом во времена Екат...</td>\n",
       "    </tr>\n",
       "    <tr>\n",
       "      <th>4</th>\n",
       "      <td>5</td>\n",
       "      <td>Когда началась 2 мировая война?</td>\n",
       "    </tr>\n",
       "  </tbody>\n",
       "</table>\n",
       "</div>"
      ],
      "text/plain": [
       "   ID                                           Question\n",
       "0   1  Как зовут лодочника на реке Стикс в древнегреч...\n",
       "1   2                   Как в химии обозначается свинец?\n",
       "2   3  Какой химический элемент преобладает в составе...\n",
       "3   4  Кто из перечисленных был пажом во времена Екат...\n",
       "4   5                    Когда началась 2 мировая война?"
      ]
     },
     "execution_count": 3,
     "metadata": {},
     "output_type": "execute_result"
    }
   ],
   "source": [
    "df = pd.read_csv('data.csv',sep=';')\n",
    "print(df.info())\n",
    "df.head()"
   ]
  },
  {
   "cell_type": "code",
   "execution_count": 4,
   "metadata": {},
   "outputs": [
    {
     "data": {
      "text/plain": [
       "ID                                  10\n",
       "Question    Кто написал повесть «Муму»\n",
       "Name: 9, dtype: object"
      ]
     },
     "execution_count": 4,
     "metadata": {},
     "output_type": "execute_result"
    }
   ],
   "source": [
    "df.iloc[9,:]"
   ]
  },
  {
   "cell_type": "code",
   "execution_count": 5,
   "metadata": {},
   "outputs": [],
   "source": [
    "df_train = df.loc[:29999]"
   ]
  },
  {
   "cell_type": "code",
   "execution_count": 6,
   "metadata": {},
   "outputs": [
    {
     "name": "stdout",
     "output_type": "stream",
     "text": [
      "<class 'pandas.core.frame.DataFrame'>\n",
      "RangeIndex: 30000 entries, 0 to 29999\n",
      "Data columns (total 2 columns):\n",
      " #   Column  Non-Null Count  Dtype\n",
      "---  ------  --------------  -----\n",
      " 0   ID      30000 non-null  int64\n",
      " 1   Answer  30000 non-null  int64\n",
      "dtypes: int64(2)\n",
      "memory usage: 468.9 KB\n",
      "None\n"
     ]
    },
    {
     "data": {
      "text/html": [
       "<div>\n",
       "<style scoped>\n",
       "    .dataframe tbody tr th:only-of-type {\n",
       "        vertical-align: middle;\n",
       "    }\n",
       "\n",
       "    .dataframe tbody tr th {\n",
       "        vertical-align: top;\n",
       "    }\n",
       "\n",
       "    .dataframe thead th {\n",
       "        text-align: right;\n",
       "    }\n",
       "</style>\n",
       "<table border=\"1\" class=\"dataframe\">\n",
       "  <thead>\n",
       "    <tr style=\"text-align: right;\">\n",
       "      <th></th>\n",
       "      <th>ID</th>\n",
       "      <th>Answer</th>\n",
       "    </tr>\n",
       "  </thead>\n",
       "  <tbody>\n",
       "    <tr>\n",
       "      <th>0</th>\n",
       "      <td>1</td>\n",
       "      <td>0</td>\n",
       "    </tr>\n",
       "    <tr>\n",
       "      <th>1</th>\n",
       "      <td>2</td>\n",
       "      <td>1</td>\n",
       "    </tr>\n",
       "    <tr>\n",
       "      <th>2</th>\n",
       "      <td>3</td>\n",
       "      <td>0</td>\n",
       "    </tr>\n",
       "    <tr>\n",
       "      <th>3</th>\n",
       "      <td>4</td>\n",
       "      <td>0</td>\n",
       "    </tr>\n",
       "    <tr>\n",
       "      <th>4</th>\n",
       "      <td>5</td>\n",
       "      <td>0</td>\n",
       "    </tr>\n",
       "  </tbody>\n",
       "</table>\n",
       "</div>"
      ],
      "text/plain": [
       "   ID  Answer\n",
       "0   1       0\n",
       "1   2       1\n",
       "2   3       0\n",
       "3   4       0\n",
       "4   5       0"
      ]
     },
     "execution_count": 6,
     "metadata": {},
     "output_type": "execute_result"
    }
   ],
   "source": [
    "y = pd.read_csv('train.csv',sep=';')\n",
    "print(y.info())\n",
    "y.head()"
   ]
  },
  {
   "cell_type": "code",
   "execution_count": 7,
   "metadata": {},
   "outputs": [
    {
     "data": {
      "text/plain": [
       "0    26884\n",
       "1     3116\n",
       "Name: Answer, dtype: int64"
      ]
     },
     "execution_count": 7,
     "metadata": {},
     "output_type": "execute_result"
    }
   ],
   "source": [
    "y['Answer'].value_counts()#0 -вопросы пользователей"
   ]
  },
  {
   "cell_type": "code",
   "execution_count": 8,
   "metadata": {},
   "outputs": [],
   "source": [
    "df_test = df.loc[30000:]"
   ]
  },
  {
   "cell_type": "code",
   "execution_count": 9,
   "metadata": {},
   "outputs": [
    {
     "data": {
      "text/html": [
       "<div>\n",
       "<style scoped>\n",
       "    .dataframe tbody tr th:only-of-type {\n",
       "        vertical-align: middle;\n",
       "    }\n",
       "\n",
       "    .dataframe tbody tr th {\n",
       "        vertical-align: top;\n",
       "    }\n",
       "\n",
       "    .dataframe thead th {\n",
       "        text-align: right;\n",
       "    }\n",
       "</style>\n",
       "<table border=\"1\" class=\"dataframe\">\n",
       "  <thead>\n",
       "    <tr style=\"text-align: right;\">\n",
       "      <th></th>\n",
       "      <th>ID</th>\n",
       "      <th>Question</th>\n",
       "    </tr>\n",
       "  </thead>\n",
       "  <tbody>\n",
       "    <tr>\n",
       "      <th>0</th>\n",
       "      <td>1</td>\n",
       "      <td>Как зовут лодочника на реке Стикс в древнегреч...</td>\n",
       "    </tr>\n",
       "    <tr>\n",
       "      <th>2</th>\n",
       "      <td>3</td>\n",
       "      <td>Какой химический элемент преобладает в составе...</td>\n",
       "    </tr>\n",
       "    <tr>\n",
       "      <th>3</th>\n",
       "      <td>4</td>\n",
       "      <td>Кто из перечисленных был пажом во времена Екат...</td>\n",
       "    </tr>\n",
       "    <tr>\n",
       "      <th>4</th>\n",
       "      <td>5</td>\n",
       "      <td>Когда началась 2 мировая война?</td>\n",
       "    </tr>\n",
       "    <tr>\n",
       "      <th>6</th>\n",
       "      <td>7</td>\n",
       "      <td>Кто из животных может мурлыкать?</td>\n",
       "    </tr>\n",
       "    <tr>\n",
       "      <th>...</th>\n",
       "      <td>...</td>\n",
       "      <td>...</td>\n",
       "    </tr>\n",
       "    <tr>\n",
       "      <th>29995</th>\n",
       "      <td>29996</td>\n",
       "      <td>Как называется игра, местом действия которой я...</td>\n",
       "    </tr>\n",
       "    <tr>\n",
       "      <th>29996</th>\n",
       "      <td>29997</td>\n",
       "      <td>Как в опере называют ведущую певицу?</td>\n",
       "    </tr>\n",
       "    <tr>\n",
       "      <th>29997</th>\n",
       "      <td>29998</td>\n",
       "      <td>На какой планете сутки длиннее года?</td>\n",
       "    </tr>\n",
       "    <tr>\n",
       "      <th>29998</th>\n",
       "      <td>29999</td>\n",
       "      <td>Сколько лет пролежал на печи известный богатыр...</td>\n",
       "    </tr>\n",
       "    <tr>\n",
       "      <th>29999</th>\n",
       "      <td>30000</td>\n",
       "      <td>В каком году основали Московский Государственн...</td>\n",
       "    </tr>\n",
       "  </tbody>\n",
       "</table>\n",
       "<p>26884 rows × 2 columns</p>\n",
       "</div>"
      ],
      "text/plain": [
       "          ID                                           Question\n",
       "0          1  Как зовут лодочника на реке Стикс в древнегреч...\n",
       "2          3  Какой химический элемент преобладает в составе...\n",
       "3          4  Кто из перечисленных был пажом во времена Екат...\n",
       "4          5                    Когда началась 2 мировая война?\n",
       "6          7                   Кто из животных может мурлыкать?\n",
       "...      ...                                                ...\n",
       "29995  29996  Как называется игра, местом действия которой я...\n",
       "29996  29997               Как в опере называют ведущую певицу?\n",
       "29997  29998               На какой планете сутки длиннее года?\n",
       "29998  29999  Сколько лет пролежал на печи известный богатыр...\n",
       "29999  30000  В каком году основали Московский Государственн...\n",
       "\n",
       "[26884 rows x 2 columns]"
      ]
     },
     "execution_count": 9,
     "metadata": {},
     "output_type": "execute_result"
    }
   ],
   "source": [
    "df_train.iloc[y[y['Answer']==0].index]"
   ]
  },
  {
   "cell_type": "code",
   "execution_count": 10,
   "metadata": {},
   "outputs": [],
   "source": [
    "questions_text = df.iloc[:,1]"
   ]
  },
  {
   "cell_type": "code",
   "execution_count": 11,
   "metadata": {},
   "outputs": [
    {
     "name": "stdout",
     "output_type": "stream",
     "text": [
      "[' ', '!', '\"', '#', '$', '%', \"'\", '(', ')', '*', '+', ',', '-', '.', '/', ':', ';', '<', '=', '>', '?', '@', '[', '\\\\', ']', '^', '_', '{', '|', '}', '«', '°', '»', '–', '—', '’', '“', '”', '„', '…', '№']\n"
     ]
    }
   ],
   "source": [
    "#СИМВОЛЫ\n",
    "count_symbols = CountVectorizer(lowercase = False, token_pattern = \"[\\\"”“„«»'.,+\\\\-*/ –()!?\\\\\\\\:<>=|^’%—;…№#°@{}\\\\[\\\\]_$]\")\n",
    "X_countVec_symbols = count_symbols.fit_transform(questions_text)\n",
    "print(count_symbols.get_feature_names())"
   ]
  },
  {
   "cell_type": "code",
   "execution_count": 12,
   "metadata": {},
   "outputs": [
    {
     "name": "stdout",
     "output_type": "stream",
     "text": [
      "Years feature:\n",
      "['1000', '1001', '1005', '1016', '1019', '1054', '1058', '1080', '1110', '1113']\n"
     ]
    }
   ],
   "source": [
    "#ГОДЫ\n",
    "count_years = CountVectorizer(strip_accents='unicode', \n",
    "                analyzer='word', token_pattern=r'[12]\\d{3}', ngram_range=(1, 1))\n",
    "\n",
    "X_countVec_years = count_years.fit_transform(questions_text)\n",
    "print(\"Years feature:\\n{}\".format(count_years.get_feature_names()[:10]))\n"
   ]
  },
  {
   "cell_type": "code",
   "execution_count": 13,
   "metadata": {},
   "outputs": [
    {
     "name": "stdout",
     "output_type": "stream",
     "text": [
      "Name feature:\n",
      "['Абаи Кунанбаев', 'Абаи Кунанбаи', 'Авврам Линкольн', 'Август Кекуле', 'Авраам Линкольн', 'Авраам Линкольна', 'Аврил Лавин', 'Австро-Венгрии', 'Австро-Венгрия', 'Автомат Калашников']\n"
     ]
    }
   ],
   "source": [
    "#ИМЕНА\n",
    "count_names = CountVectorizer(strip_accents='unicode', \n",
    "                analyzer='word', token_pattern=r'[А-Я][а-я]{1,}[ -][А-Я][а-я]{1,}', \n",
    "                              lowercase=False,\n",
    "                              ngram_range=(1, 1))\n",
    "\n",
    "X_countVec_names = count_names.fit_transform(questions_text)\n",
    "print(\"Name feature:\\n{}\".format(count_names.get_feature_names()[:10]))\n"
   ]
  },
  {
   "cell_type": "code",
   "execution_count": 14,
   "metadata": {
    "scrolled": true
   },
   "outputs": [
    {
     "name": "stdout",
     "output_type": "stream",
     "text": [
      "Numbers feature:\n",
      "['0', '00', '000', '007', '01', '011235', '02', '03', '04', '05', '06', '07', '08', '09', '1', '10', '100', '10000', '100000', '1000000', '10000000', '1000000000', '100500', '101', '103', '105', '108', '11', '110', '111', '113', '114', '115', '116', '117', '119', '12', '120', '12000', '12000000', '121', '122', '123', '124', '127', '128', '13', '131', '132', '134', '138', '14', '140', '141592', '143', '144', '145', '146', '149', '15', '150', '152', '154', '155', '156', '157', '158', '16', '160', '161', '164', '166', '167', '168', '169', '17', '170', '171', '171022882', '172', '173', '174', '175', '176', '177', '178', '179', '18', '180', '18000', '181', '182', '183', '184', '185', '186', '187', '188', '189', '19', '190', '191', '192', '193', '194', '195', '196', '197', '198', '199', '2', '20', '200', '200000', '201', '202', '203', '204218', '205', '20712357', '21', '210', '21013', '211', '212', '21211', '216', '22', '220', '222', '225', '226666506', '23', '24', '243', '25', '250', '252', '255', '256', '26', '26000', '264', '267', '27', '275', '28', '284', '28577', '29', '292', '29594995', '296734698', '297', '299', '3', '30', '300', '3000', '30000', '300000', '301', '308309', '31', '310', '312', '32', '320', '33', '331', '333', '335', '336', '34', '35', '350', '3500', '357', '36', '360', '3690', '37', '378', '38', '384', '3869', '39', '3990', '4', '40', '400', '404', '41', '42', '420', '432', '434', '44', '45', '450', '451', '453', '46', '4699', '47', '48', '4847', '48584', '4890', '4944', '5', '50', '500', '5000', '50000', '500000', '503', '505', '51', '513', '52', '520', '53', '5363838', '54', '540', '544', '55', '56', '58', '585', '59', '599905', '6', '60', '600', '6000', '600000', '61', '62', '63', '64', '640', '65', '66', '666', '6690', '7', '70', '700', '71', '710', '714', '72', '725', '729', '73', '74', '747', '75', '76', '777', '79', '79105839539', '7990', '8', '80', '800', '8000', '8190', '82', '829', '83', '836', '8361', '84', '862', '878', '88', '882', '885', '889', '89', '89653', '9', '90', '900', '9000', '901', '911', '912', '92', '95', '96', '962', '965', '967', '968', '98', '986', '988', '99', '990', '9922', '999999999']\n"
     ]
    }
   ],
   "source": [
    "#ЧИСЛА\n",
    "count_numbers = CountVectorizer(strip_accents='unicode', \n",
    "                analyzer='word', token_pattern=r'[03-9]\\d*|[12]\\d{4,}|[12]\\d{0,2}', ngram_range=(1, 1), max_features=30000)\n",
    "\n",
    "X_countVec_numbers = count_numbers.fit_transform(questions_text)\n",
    "print(\"Numbers feature:\\n{}\".format(count_numbers.get_feature_names()))"
   ]
  },
  {
   "cell_type": "code",
   "execution_count": 15,
   "metadata": {},
   "outputs": [
    {
     "data": {
      "image/png": "[encoded data removed]",
      "text/plain": [
       "<Figure size 432x288 with 1 Axes>"
      ]
     },
     "metadata": {},
     "output_type": "display_data"
    }
   ],
   "source": [
    "plt.hist([int(x) for x in count_numbers.get_feature_names()],bins=100);"
   ]
  },
  {
   "cell_type": "code",
   "execution_count": 16,
   "metadata": {},
   "outputs": [
    {
     "data": {
      "text/html": [
       "<div>\n",
       "<style scoped>\n",
       "    .dataframe tbody tr th:only-of-type {\n",
       "        vertical-align: middle;\n",
       "    }\n",
       "\n",
       "    .dataframe tbody tr th {\n",
       "        vertical-align: top;\n",
       "    }\n",
       "\n",
       "    .dataframe thead th {\n",
       "        text-align: right;\n",
       "    }\n",
       "</style>\n",
       "<table border=\"1\" class=\"dataframe\">\n",
       "  <thead>\n",
       "    <tr style=\"text-align: right;\">\n",
       "      <th></th>\n",
       "      <th>0</th>\n",
       "      <th>00</th>\n",
       "      <th>000</th>\n",
       "      <th>007</th>\n",
       "      <th>01</th>\n",
       "      <th>011235</th>\n",
       "      <th>02</th>\n",
       "      <th>03</th>\n",
       "      <th>04</th>\n",
       "      <th>05</th>\n",
       "      <th>...</th>\n",
       "      <th>965</th>\n",
       "      <th>967</th>\n",
       "      <th>968</th>\n",
       "      <th>98</th>\n",
       "      <th>986</th>\n",
       "      <th>988</th>\n",
       "      <th>99</th>\n",
       "      <th>990</th>\n",
       "      <th>9922</th>\n",
       "      <th>999999999</th>\n",
       "    </tr>\n",
       "  </thead>\n",
       "  <tbody>\n",
       "    <tr>\n",
       "      <th>0</th>\n",
       "      <td>0</td>\n",
       "      <td>0</td>\n",
       "      <td>0</td>\n",
       "      <td>0</td>\n",
       "      <td>0</td>\n",
       "      <td>0</td>\n",
       "      <td>0</td>\n",
       "      <td>0</td>\n",
       "      <td>0</td>\n",
       "      <td>0</td>\n",
       "      <td>...</td>\n",
       "      <td>0</td>\n",
       "      <td>0</td>\n",
       "      <td>0</td>\n",
       "      <td>0</td>\n",
       "      <td>0</td>\n",
       "      <td>0</td>\n",
       "      <td>0</td>\n",
       "      <td>0</td>\n",
       "      <td>0</td>\n",
       "      <td>0</td>\n",
       "    </tr>\n",
       "    <tr>\n",
       "      <th>1</th>\n",
       "      <td>0</td>\n",
       "      <td>0</td>\n",
       "      <td>0</td>\n",
       "      <td>0</td>\n",
       "      <td>0</td>\n",
       "      <td>0</td>\n",
       "      <td>0</td>\n",
       "      <td>0</td>\n",
       "      <td>0</td>\n",
       "      <td>0</td>\n",
       "      <td>...</td>\n",
       "      <td>0</td>\n",
       "      <td>0</td>\n",
       "      <td>0</td>\n",
       "      <td>0</td>\n",
       "      <td>0</td>\n",
       "      <td>0</td>\n",
       "      <td>0</td>\n",
       "      <td>0</td>\n",
       "      <td>0</td>\n",
       "      <td>0</td>\n",
       "    </tr>\n",
       "    <tr>\n",
       "      <th>2</th>\n",
       "      <td>0</td>\n",
       "      <td>0</td>\n",
       "      <td>0</td>\n",
       "      <td>0</td>\n",
       "      <td>0</td>\n",
       "      <td>0</td>\n",
       "      <td>0</td>\n",
       "      <td>0</td>\n",
       "      <td>0</td>\n",
       "      <td>0</td>\n",
       "      <td>...</td>\n",
       "      <td>0</td>\n",
       "      <td>0</td>\n",
       "      <td>0</td>\n",
       "      <td>0</td>\n",
       "      <td>0</td>\n",
       "      <td>0</td>\n",
       "      <td>0</td>\n",
       "      <td>0</td>\n",
       "      <td>0</td>\n",
       "      <td>0</td>\n",
       "    </tr>\n",
       "    <tr>\n",
       "      <th>3</th>\n",
       "      <td>0</td>\n",
       "      <td>0</td>\n",
       "      <td>0</td>\n",
       "      <td>0</td>\n",
       "      <td>0</td>\n",
       "      <td>0</td>\n",
       "      <td>0</td>\n",
       "      <td>0</td>\n",
       "      <td>0</td>\n",
       "      <td>0</td>\n",
       "      <td>...</td>\n",
       "      <td>0</td>\n",
       "      <td>0</td>\n",
       "      <td>0</td>\n",
       "      <td>0</td>\n",
       "      <td>0</td>\n",
       "      <td>0</td>\n",
       "      <td>0</td>\n",
       "      <td>0</td>\n",
       "      <td>0</td>\n",
       "      <td>0</td>\n",
       "    </tr>\n",
       "    <tr>\n",
       "      <th>4</th>\n",
       "      <td>0</td>\n",
       "      <td>0</td>\n",
       "      <td>0</td>\n",
       "      <td>0</td>\n",
       "      <td>0</td>\n",
       "      <td>0</td>\n",
       "      <td>0</td>\n",
       "      <td>0</td>\n",
       "      <td>0</td>\n",
       "      <td>0</td>\n",
       "      <td>...</td>\n",
       "      <td>0</td>\n",
       "      <td>0</td>\n",
       "      <td>0</td>\n",
       "      <td>0</td>\n",
       "      <td>0</td>\n",
       "      <td>0</td>\n",
       "      <td>0</td>\n",
       "      <td>0</td>\n",
       "      <td>0</td>\n",
       "      <td>0</td>\n",
       "    </tr>\n",
       "    <tr>\n",
       "      <th>...</th>\n",
       "      <td>...</td>\n",
       "      <td>...</td>\n",
       "      <td>...</td>\n",
       "      <td>...</td>\n",
       "      <td>...</td>\n",
       "      <td>...</td>\n",
       "      <td>...</td>\n",
       "      <td>...</td>\n",
       "      <td>...</td>\n",
       "      <td>...</td>\n",
       "      <td>...</td>\n",
       "      <td>...</td>\n",
       "      <td>...</td>\n",
       "      <td>...</td>\n",
       "      <td>...</td>\n",
       "      <td>...</td>\n",
       "      <td>...</td>\n",
       "      <td>...</td>\n",
       "      <td>...</td>\n",
       "      <td>...</td>\n",
       "      <td>...</td>\n",
       "    </tr>\n",
       "    <tr>\n",
       "      <th>41082</th>\n",
       "      <td>0</td>\n",
       "      <td>0</td>\n",
       "      <td>0</td>\n",
       "      <td>0</td>\n",
       "      <td>0</td>\n",
       "      <td>0</td>\n",
       "      <td>0</td>\n",
       "      <td>0</td>\n",
       "      <td>0</td>\n",
       "      <td>0</td>\n",
       "      <td>...</td>\n",
       "      <td>0</td>\n",
       "      <td>0</td>\n",
       "      <td>0</td>\n",
       "      <td>0</td>\n",
       "      <td>0</td>\n",
       "      <td>0</td>\n",
       "      <td>0</td>\n",
       "      <td>0</td>\n",
       "      <td>0</td>\n",
       "      <td>0</td>\n",
       "    </tr>\n",
       "    <tr>\n",
       "      <th>41083</th>\n",
       "      <td>0</td>\n",
       "      <td>0</td>\n",
       "      <td>0</td>\n",
       "      <td>0</td>\n",
       "      <td>0</td>\n",
       "      <td>0</td>\n",
       "      <td>0</td>\n",
       "      <td>0</td>\n",
       "      <td>0</td>\n",
       "      <td>0</td>\n",
       "      <td>...</td>\n",
       "      <td>0</td>\n",
       "      <td>0</td>\n",
       "      <td>0</td>\n",
       "      <td>0</td>\n",
       "      <td>0</td>\n",
       "      <td>0</td>\n",
       "      <td>0</td>\n",
       "      <td>0</td>\n",
       "      <td>0</td>\n",
       "      <td>0</td>\n",
       "    </tr>\n",
       "    <tr>\n",
       "      <th>41084</th>\n",
       "      <td>0</td>\n",
       "      <td>0</td>\n",
       "      <td>0</td>\n",
       "      <td>0</td>\n",
       "      <td>0</td>\n",
       "      <td>0</td>\n",
       "      <td>0</td>\n",
       "      <td>0</td>\n",
       "      <td>0</td>\n",
       "      <td>0</td>\n",
       "      <td>...</td>\n",
       "      <td>0</td>\n",
       "      <td>0</td>\n",
       "      <td>0</td>\n",
       "      <td>0</td>\n",
       "      <td>0</td>\n",
       "      <td>0</td>\n",
       "      <td>0</td>\n",
       "      <td>0</td>\n",
       "      <td>0</td>\n",
       "      <td>0</td>\n",
       "    </tr>\n",
       "    <tr>\n",
       "      <th>41085</th>\n",
       "      <td>0</td>\n",
       "      <td>0</td>\n",
       "      <td>0</td>\n",
       "      <td>0</td>\n",
       "      <td>0</td>\n",
       "      <td>0</td>\n",
       "      <td>0</td>\n",
       "      <td>0</td>\n",
       "      <td>0</td>\n",
       "      <td>0</td>\n",
       "      <td>...</td>\n",
       "      <td>0</td>\n",
       "      <td>0</td>\n",
       "      <td>0</td>\n",
       "      <td>0</td>\n",
       "      <td>0</td>\n",
       "      <td>0</td>\n",
       "      <td>0</td>\n",
       "      <td>0</td>\n",
       "      <td>0</td>\n",
       "      <td>0</td>\n",
       "    </tr>\n",
       "    <tr>\n",
       "      <th>41086</th>\n",
       "      <td>0</td>\n",
       "      <td>0</td>\n",
       "      <td>0</td>\n",
       "      <td>0</td>\n",
       "      <td>0</td>\n",
       "      <td>0</td>\n",
       "      <td>0</td>\n",
       "      <td>0</td>\n",
       "      <td>0</td>\n",
       "      <td>0</td>\n",
       "      <td>...</td>\n",
       "      <td>0</td>\n",
       "      <td>0</td>\n",
       "      <td>0</td>\n",
       "      <td>0</td>\n",
       "      <td>0</td>\n",
       "      <td>0</td>\n",
       "      <td>0</td>\n",
       "      <td>0</td>\n",
       "      <td>0</td>\n",
       "      <td>0</td>\n",
       "    </tr>\n",
       "  </tbody>\n",
       "</table>\n",
       "<p>41087 rows × 305 columns</p>\n",
       "</div>"
      ],
      "text/plain": [
       "       0  00  000  007  01  011235  02  03  04  05  ...  965  967  968  98  \\\n",
       "0      0   0    0    0   0       0   0   0   0   0  ...    0    0    0   0   \n",
       "1      0   0    0    0   0       0   0   0   0   0  ...    0    0    0   0   \n",
       "2      0   0    0    0   0       0   0   0   0   0  ...    0    0    0   0   \n",
       "3      0   0    0    0   0       0   0   0   0   0  ...    0    0    0   0   \n",
       "4      0   0    0    0   0       0   0   0   0   0  ...    0    0    0   0   \n",
       "...   ..  ..  ...  ...  ..     ...  ..  ..  ..  ..  ...  ...  ...  ...  ..   \n",
       "41082  0   0    0    0   0       0   0   0   0   0  ...    0    0    0   0   \n",
       "41083  0   0    0    0   0       0   0   0   0   0  ...    0    0    0   0   \n",
       "41084  0   0    0    0   0       0   0   0   0   0  ...    0    0    0   0   \n",
       "41085  0   0    0    0   0       0   0   0   0   0  ...    0    0    0   0   \n",
       "41086  0   0    0    0   0       0   0   0   0   0  ...    0    0    0   0   \n",
       "\n",
       "       986  988  99  990  9922  999999999  \n",
       "0        0    0   0    0     0          0  \n",
       "1        0    0   0    0     0          0  \n",
       "2        0    0   0    0     0          0  \n",
       "3        0    0   0    0     0          0  \n",
       "4        0    0   0    0     0          0  \n",
       "...    ...  ...  ..  ...   ...        ...  \n",
       "41082    0    0   0    0     0          0  \n",
       "41083    0    0   0    0     0          0  \n",
       "41084    0    0   0    0     0          0  \n",
       "41085    0    0   0    0     0          0  \n",
       "41086    0    0   0    0     0          0  \n",
       "\n",
       "[41087 rows x 305 columns]"
      ]
     },
     "execution_count": 16,
     "metadata": {},
     "output_type": "execute_result"
    }
   ],
   "source": [
    "numbers = pd.DataFrame.sparse.from_spmatrix(X_countVec_numbers)\n",
    "numbers.columns = count_numbers.get_feature_names()\n",
    "numbers"
   ]
  },
  {
   "cell_type": "code",
   "execution_count": 17,
   "metadata": {},
   "outputs": [],
   "source": [
    "numbers_over_11mln = numbers[[x for x in count_numbers.get_feature_names() if int(x)>=11000000]].sum(axis=1)"
   ]
  },
  {
   "cell_type": "code",
   "execution_count": 18,
   "metadata": {},
   "outputs": [],
   "source": [
    "#делаем бинарные - есть ли в вопросе большое число или нет\n",
    "for i in range(len(numbers_over_11mln)):\n",
    "    if numbers_over_11mln[i]>=1:\n",
    "        numbers_over_11mln[i] = 1\n",
    "    else:\n",
    "        numbers_over_11mln[i] = 0"
   ]
  },
  {
   "cell_type": "code",
   "execution_count": 19,
   "metadata": {},
   "outputs": [],
   "source": [
    "numbers_over_11mln = np.matrix(numbers_over_11mln).reshape((numbers_over_11mln.shape[0], 1))"
   ]
  },
  {
   "cell_type": "code",
   "execution_count": 20,
   "metadata": {},
   "outputs": [],
   "source": [
    "numbers_less_11mln = numbers[[x for x in count_numbers.get_feature_names() if int(x)<11000000]].sum(axis=1)"
   ]
  },
  {
   "cell_type": "code",
   "execution_count": 21,
   "metadata": {},
   "outputs": [
    {
     "data": {
      "text/plain": [
       "7391"
      ]
     },
     "execution_count": 21,
     "metadata": {},
     "output_type": "execute_result"
    }
   ],
   "source": [
    "sum(numbers_less_11mln)"
   ]
  },
  {
   "cell_type": "code",
   "execution_count": 22,
   "metadata": {},
   "outputs": [],
   "source": [
    "#делаем бинарные - есть ли в вопросе число меньше 11 млн. или нет\n",
    "for i in range(len(numbers_less_11mln)):\n",
    "    if numbers_less_11mln[i]>=1:\n",
    "        numbers_less_11mln[i] = 1\n",
    "    else:\n",
    "        numbers_less_11mln[i] = 0"
   ]
  },
  {
   "cell_type": "code",
   "execution_count": 23,
   "metadata": {},
   "outputs": [
    {
     "data": {
      "text/plain": [
       "3993"
      ]
     },
     "execution_count": 23,
     "metadata": {},
     "output_type": "execute_result"
    }
   ],
   "source": [
    "sum(numbers_less_11mln)"
   ]
  },
  {
   "cell_type": "code",
   "execution_count": 24,
   "metadata": {},
   "outputs": [],
   "source": [
    "numbers_less_11mln = np.matrix(numbers_less_11mln).reshape((numbers_less_11mln.shape[0], 1))"
   ]
  },
  {
   "cell_type": "code",
   "execution_count": 25,
   "metadata": {},
   "outputs": [],
   "source": [
    "#КАВЫЧКИ\n",
    "# count_quotes = CountVectorizer(token_pattern = r'.*\".*')\n",
    "# X_countVec_quotes = count_quotes.fit_transform(questions_text)\n",
    "# print(count_quotes.get_feature_names()[:20])"
   ]
  },
  {
   "cell_type": "code",
   "execution_count": 25,
   "metadata": {},
   "outputs": [
    {
     "name": "stdout",
     "output_type": "stream",
     "text": [
      "Words feature:\n",
      "['No', 'a', 'a b', 'a l', 'a l k', 'abba', 'ac', 'ac dc', 'ad', 'adidas']\n"
     ]
    }
   ],
   "source": [
    "#СЛОВА\n",
    "count_words = CountVectorizer(strip_accents='unicode', \n",
    "                analyzer='word', token_pattern=r'[А-ЯA-Zа-яa-z]+', ngram_range=(1, 3), max_features=50000)\n",
    "\n",
    "X_countVec_words = count_words.fit_transform(questions_text)\n",
    "print(\"Words feature:\\n{}\".format(count_words.get_feature_names()[:10]))"
   ]
  },
  {
   "cell_type": "code",
   "execution_count": 26,
   "metadata": {},
   "outputs": [
    {
     "name": "stdout",
     "output_type": "stream",
     "text": [
      "Words feature:\n",
      "['C', 'CCI', 'CI', 'CMD', 'CVV', 'D', 'DC', 'DI', 'DID', 'DM', 'DMC', 'I', 'IC', 'ID', 'II', 'III', 'IL', 'IM', 'IMD', 'IV', 'IX', 'L', 'LI', 'LV', 'M', 'MC', 'MI', 'ML', 'MV', 'MX', 'V', 'VI', 'VII', 'VIII', 'X', 'XCX', 'XI', 'XII', 'XIII', 'XIV', 'XIX', 'XLV', 'XV', 'XVI', 'XVII', 'XVIII', 'XX', 'XXI', 'XXVII', 'XXX', 'XXXIII', 'c', 'cc', 'cci', 'ci', 'cl', 'd', 'dc', 'dd', 'di', 'did', 'div', 'dl', 'dm', 'dv', 'i', 'ic', 'ici', 'id', 'idi', 'ii', 'il', 'ild', 'ili', 'ill', 'im', 'imi', 'iv', 'ivi', 'ix', 'l', 'lc', 'ld', 'li', 'lim', 'liv', 'lix', 'll', 'lli', 'llic', 'lll', 'lm', 'lv', 'lvi', 'm', 'mc', 'mi', 'mic', 'mix', 'ml', 'mm', 'mv', 'v', 'vi', 'vicii', 'vid', 'viv', 'x', 'xi', 'xlx', 'xxx']\n"
     ]
    }
   ],
   "source": [
    "#РИМСКИЕ ЦИФРЫ\n",
    "count_roman_num = CountVectorizer(strip_accents='unicode', lowercase = False,\n",
    "                analyzer='word', token_pattern=r'[IVXLCDM]+|[ivxlcdm]+', ngram_range=(1, 1))\n",
    "\n",
    "X_countVec_roman_num = count_roman_num.fit_transform(questions_text)\n",
    "print(\"Words feature:\\n{}\".format(count_roman_num.get_feature_names()))"
   ]
  },
  {
   "cell_type": "code",
   "execution_count": 27,
   "metadata": {},
   "outputs": [
    {
     "data": {
      "text/plain": [
       "matrix([[1874]], dtype=int64)"
      ]
     },
     "execution_count": 27,
     "metadata": {},
     "output_type": "execute_result"
    }
   ],
   "source": [
    "#наличие римских цифр в вопросе\n",
    "roman_num = X_countVec_roman_num.sum(axis=1)\n",
    "for i in range(len(roman_num)):\n",
    "    if roman_num[i]>=1:\n",
    "        roman_num[i] = 1\n",
    "    else:\n",
    "        roman_num[i] = 0\n",
    "\n",
    "sum(roman_num)"
   ]
  },
  {
   "cell_type": "code",
   "execution_count": 28,
   "metadata": {},
   "outputs": [
    {
     "data": {
      "text/plain": [
       "matrix([[1756]], dtype=int64)"
      ]
     },
     "execution_count": 28,
     "metadata": {},
     "output_type": "execute_result"
    }
   ],
   "source": [
    "#наличие годов в вопросе\n",
    "years = X_countVec_years.sum(axis=1)\n",
    "for i in range(len(years)):\n",
    "    if years[i]>=1:\n",
    "        years[i] = 1\n",
    "    else:\n",
    "        years[i] = 0\n",
    "\n",
    "sum(years)"
   ]
  },
  {
   "cell_type": "code",
   "execution_count": 29,
   "metadata": {},
   "outputs": [
    {
     "name": "stdout",
     "output_type": "stream",
     "text": [
      "[[7617]]\n"
     ]
    },
    {
     "data": {
      "text/plain": [
       "matrix([[7057]], dtype=int64)"
      ]
     },
     "execution_count": 29,
     "metadata": {},
     "output_type": "execute_result"
    }
   ],
   "source": [
    "#наличие имён в вопросе\n",
    "names = X_countVec_names.sum(axis=1)\n",
    "print(sum(names))\n",
    "for i in range(len(names)):\n",
    "    if names[i]>=1:\n",
    "        names[i] = 1\n",
    "    else:\n",
    "        names[i] = 0\n",
    "\n",
    "sum(names)"
   ]
  },
  {
   "cell_type": "code",
   "execution_count": 30,
   "metadata": {},
   "outputs": [
    {
     "data": {
      "text/plain": [
       "array([[8, 0, 0, ..., 0, 0, 0],\n",
       "       [4, 0, 0, ..., 0, 0, 0],\n",
       "       [7, 0, 0, ..., 0, 0, 0],\n",
       "       ...,\n",
       "       [9, 0, 0, ..., 0, 0, 0],\n",
       "       [7, 0, 0, ..., 0, 0, 0],\n",
       "       [5, 0, 0, ..., 0, 0, 0]], dtype=int64)"
      ]
     },
     "execution_count": 30,
     "metadata": {},
     "output_type": "execute_result"
    }
   ],
   "source": [
    "X_countVec_symbols.toarray()"
   ]
  },
  {
   "cell_type": "code",
   "execution_count": 31,
   "metadata": {},
   "outputs": [
    {
     "data": {
      "text/plain": [
       "matrix([[8, 0, 0, ..., 0, 0, 0],\n",
       "        [4, 0, 0, ..., 0, 0, 0],\n",
       "        [7, 0, 0, ..., 0, 0, 0],\n",
       "        ...,\n",
       "        [9, 0, 0, ..., 0, 0, 0],\n",
       "        [7, 0, 0, ..., 0, 0, 0],\n",
       "        [5, 0, 0, ..., 0, 0, 0]], dtype=int64)"
      ]
     },
     "execution_count": 31,
     "metadata": {},
     "output_type": "execute_result"
    }
   ],
   "source": [
    "#объединяем матрицу с вектором\n",
    "np.append(X_countVec_symbols.toarray(),roman_num,axis=1)"
   ]
  },
  {
   "cell_type": "code",
   "execution_count": 32,
   "metadata": {},
   "outputs": [],
   "source": [
    "roman = pd.DataFrame.sparse.from_spmatrix(X_countVec_roman_num)"
   ]
  },
  {
   "cell_type": "code",
   "execution_count": 33,
   "metadata": {},
   "outputs": [
    {
     "data": {
      "text/plain": [
       "0      0\n",
       "1      0\n",
       "2      0\n",
       "3      0\n",
       "4      0\n",
       "      ..\n",
       "106    0\n",
       "107    0\n",
       "108    0\n",
       "109    0\n",
       "110    0\n",
       "Name: 0, Length: 111, dtype: Sparse[int64, 0]"
      ]
     },
     "execution_count": 33,
     "metadata": {},
     "output_type": "execute_result"
    }
   ],
   "source": [
    "roman.iloc[0,:]"
   ]
  },
  {
   "cell_type": "code",
   "execution_count": 34,
   "metadata": {},
   "outputs": [],
   "source": [
    "from scipy.sparse import hstack"
   ]
  },
  {
   "cell_type": "code",
   "execution_count": 35,
   "metadata": {},
   "outputs": [],
   "source": [
    "X_counts = hstack((X_countVec_symbols, years, names, numbers_over_11mln, \n",
    "                   numbers_less_11mln, roman_num, X_countVec_words)).tocsr()"
   ]
  },
  {
   "cell_type": "code",
   "execution_count": 36,
   "metadata": {},
   "outputs": [
    {
     "data": {
      "text/plain": [
       "<41087x50046 sparse matrix of type '<class 'numpy.int64'>'\n",
       "\twith 608382 stored elements in Compressed Sparse Row format>"
      ]
     },
     "execution_count": 36,
     "metadata": {},
     "output_type": "execute_result"
    }
   ],
   "source": [
    "X_counts"
   ]
  },
  {
   "cell_type": "code",
   "execution_count": 37,
   "metadata": {},
   "outputs": [],
   "source": [
    "X_countVec_train = X_counts[:30000]\n",
    "X_countVec_test = X_counts[30000:]"
   ]
  },
  {
   "cell_type": "code",
   "execution_count": 38,
   "metadata": {},
   "outputs": [
    {
     "name": "stdout",
     "output_type": "stream",
     "text": [
      "X_train: (20100, 50046)  y_train: (20100,)  X_test: (9900, 50046)  y_test: (9900,)\n"
     ]
    }
   ],
   "source": [
    "from sklearn.model_selection import train_test_split\n",
    "X_train, X_test, y_train, y_test = train_test_split(X_countVec_train, y.iloc[:,1], test_size=0.33, random_state=42)\n",
    "\n",
    "print(\"X_train:\", X_train.shape, \" y_train:\", y_train.shape,\n",
    "      \" X_test:\", X_test.shape, \" y_test:\", y_test.shape)"
   ]
  },
  {
   "cell_type": "code",
   "execution_count": 39,
   "metadata": {},
   "outputs": [],
   "source": [
    "from sklearn.naive_bayes import MultinomialNB"
   ]
  },
  {
   "cell_type": "code",
   "execution_count": 41,
   "metadata": {},
   "outputs": [
    {
     "data": {
      "text/html": [
       "<div>\n",
       "<style scoped>\n",
       "    .dataframe tbody tr th:only-of-type {\n",
       "        vertical-align: middle;\n",
       "    }\n",
       "\n",
       "    .dataframe tbody tr th {\n",
       "        vertical-align: top;\n",
       "    }\n",
       "\n",
       "    .dataframe thead th {\n",
       "        text-align: right;\n",
       "    }\n",
       "</style>\n",
       "<table border=\"1\" class=\"dataframe\">\n",
       "  <thead>\n",
       "    <tr style=\"text-align: right;\">\n",
       "      <th></th>\n",
       "      <th>roc_auc</th>\n",
       "      <th>log_loss</th>\n",
       "    </tr>\n",
       "  </thead>\n",
       "  <tbody>\n",
       "    <tr>\n",
       "      <th>score</th>\n",
       "      <td>0.686961</td>\n",
       "      <td>2.635955</td>\n",
       "    </tr>\n",
       "  </tbody>\n",
       "</table>\n",
       "</div>"
      ],
      "text/plain": [
       "        roc_auc  log_loss\n",
       "score  0.686961  2.635955"
      ]
     },
     "execution_count": 41,
     "metadata": {},
     "output_type": "execute_result"
    }
   ],
   "source": [
    "clf = MultinomialNB()\n",
    "NB = clf.fit(X_train, y_train)\n",
    "\n",
    "estimates = {'roc_auc': [metrics.roc_auc_score(y_train, NB.predict(X_train))],\n",
    "             'log_loss': [metrics.log_loss(y_train, NB.predict(X_train))]}\n",
    "\n",
    "estimates_CountVectorizer = pd.DataFrame(estimates, index = ['score'])\n",
    "estimates_CountVectorizer"
   ]
  },
  {
   "cell_type": "code",
   "execution_count": 42,
   "metadata": {},
   "outputs": [
    {
     "data": {
      "text/plain": [
       "0.923681592039801"
      ]
     },
     "execution_count": 42,
     "metadata": {},
     "output_type": "execute_result"
    }
   ],
   "source": [
    "NB.score(X_train, y_train)"
   ]
  },
  {
   "cell_type": "code",
   "execution_count": 43,
   "metadata": {},
   "outputs": [
    {
     "data": {
      "text/html": [
       "<div>\n",
       "<style scoped>\n",
       "    .dataframe tbody tr th:only-of-type {\n",
       "        vertical-align: middle;\n",
       "    }\n",
       "\n",
       "    .dataframe tbody tr th {\n",
       "        vertical-align: top;\n",
       "    }\n",
       "\n",
       "    .dataframe thead th {\n",
       "        text-align: right;\n",
       "    }\n",
       "</style>\n",
       "<table border=\"1\" class=\"dataframe\">\n",
       "  <thead>\n",
       "    <tr style=\"text-align: right;\">\n",
       "      <th></th>\n",
       "      <th>0</th>\n",
       "      <th>1</th>\n",
       "    </tr>\n",
       "  </thead>\n",
       "  <tbody>\n",
       "    <tr>\n",
       "      <th>0</th>\n",
       "      <td>8452</td>\n",
       "      <td>412</td>\n",
       "    </tr>\n",
       "    <tr>\n",
       "      <th>1</th>\n",
       "      <td>933</td>\n",
       "      <td>103</td>\n",
       "    </tr>\n",
       "  </tbody>\n",
       "</table>\n",
       "</div>"
      ],
      "text/plain": [
       "      0    1\n",
       "0  8452  412\n",
       "1   933  103"
      ]
     },
     "execution_count": 43,
     "metadata": {},
     "output_type": "execute_result"
    }
   ],
   "source": [
    "conf_mat = metrics.confusion_matrix(y_test, NB.predict(X_test))\n",
    "conf_mat = pd.DataFrame(conf_mat, index=NB.classes_, columns=NB.classes_)\n",
    "conf_mat"
   ]
  },
  {
   "cell_type": "code",
   "execution_count": 44,
   "metadata": {},
   "outputs": [
    {
     "name": "stdout",
     "output_type": "stream",
     "text": [
      "              precision    recall  f1-score   support\n",
      "\n",
      "           0       0.90      0.95      0.93      8864\n",
      "           1       0.20      0.10      0.13      1036\n",
      "\n",
      "    accuracy                           0.86      9900\n",
      "   macro avg       0.55      0.53      0.53      9900\n",
      "weighted avg       0.83      0.86      0.84      9900\n",
      "\n"
     ]
    }
   ],
   "source": [
    "print (metrics.classification_report(y_test, NB.predict(X_test)))"
   ]
  },
  {
   "cell_type": "code",
   "execution_count": 45,
   "metadata": {},
   "outputs": [],
   "source": [
    "from sklearn.linear_model import LogisticRegression"
   ]
  },
  {
   "cell_type": "code",
   "execution_count": 51,
   "metadata": {},
   "outputs": [
    {
     "data": {
      "text/html": [
       "<div>\n",
       "<style scoped>\n",
       "    .dataframe tbody tr th:only-of-type {\n",
       "        vertical-align: middle;\n",
       "    }\n",
       "\n",
       "    .dataframe tbody tr th {\n",
       "        vertical-align: top;\n",
       "    }\n",
       "\n",
       "    .dataframe thead th {\n",
       "        text-align: right;\n",
       "    }\n",
       "</style>\n",
       "<table border=\"1\" class=\"dataframe\">\n",
       "  <thead>\n",
       "    <tr style=\"text-align: right;\">\n",
       "      <th></th>\n",
       "      <th>roc_auc</th>\n",
       "      <th>log_loss</th>\n",
       "    </tr>\n",
       "  </thead>\n",
       "  <tbody>\n",
       "    <tr>\n",
       "      <th>score</th>\n",
       "      <td>0.76912</td>\n",
       "      <td>1.69601</td>\n",
       "    </tr>\n",
       "  </tbody>\n",
       "</table>\n",
       "</div>"
      ],
      "text/plain": [
       "       roc_auc  log_loss\n",
       "score  0.76912   1.69601"
      ]
     },
     "execution_count": 51,
     "metadata": {},
     "output_type": "execute_result"
    }
   ],
   "source": [
    "model = LogisticRegression(random_state=0, max_iter=10000)\n",
    "logregres = model.fit(X_train, y_train)\n",
    "\n",
    "estimates = {'roc_auc': [metrics.roc_auc_score(y_train, logregres.predict(X_train))],\n",
    "             'log_loss': [metrics.log_loss(y_train, logregres.predict(X_train))]}\n",
    "\n",
    "estimates_LogReg = pd.DataFrame(estimates, index = ['score'])\n",
    "estimates_LogReg"
   ]
  },
  {
   "cell_type": "code",
   "execution_count": 47,
   "metadata": {},
   "outputs": [
    {
     "name": "stdout",
     "output_type": "stream",
     "text": [
      "tuned hyperparameters :(best parameters)  {'C': 0.001}\n",
      "accuracy : 0.8963184079601989\n"
     ]
    }
   ],
   "source": [
    "# Grid search cross validation\n",
    "from sklearn.model_selection import GridSearchCV\n",
    "\n",
    "grid = {\"C\":np.logspace(-3,3,7)}#, \"penalty\":[\"l1\",\"l2\"]}# l1 lasso l2 ridge\n",
    "logreg=LogisticRegression(random_state=0, max_iter=5000)#, solver=\"liblinear\")\n",
    "logreg_cv=GridSearchCV(logreg,grid,cv=10)\n",
    "logreg_cv.fit(X_train,y_train)\n",
    "\n",
    "print(\"tuned hyperparameters :(best parameters) \",logreg_cv.best_params_)\n",
    "print(\"accuracy :\",logreg_cv.best_score_)"
   ]
  },
  {
   "cell_type": "code",
   "execution_count": 48,
   "metadata": {},
   "outputs": [
    {
     "data": {
      "text/html": [
       "<div>\n",
       "<style scoped>\n",
       "    .dataframe tbody tr th:only-of-type {\n",
       "        vertical-align: middle;\n",
       "    }\n",
       "\n",
       "    .dataframe tbody tr th {\n",
       "        vertical-align: top;\n",
       "    }\n",
       "\n",
       "    .dataframe thead th {\n",
       "        text-align: right;\n",
       "    }\n",
       "</style>\n",
       "<table border=\"1\" class=\"dataframe\">\n",
       "  <thead>\n",
       "    <tr style=\"text-align: right;\">\n",
       "      <th></th>\n",
       "      <th>roc_auc</th>\n",
       "      <th>log_loss</th>\n",
       "    </tr>\n",
       "  </thead>\n",
       "  <tbody>\n",
       "    <tr>\n",
       "      <th>score</th>\n",
       "      <td>0.499889</td>\n",
       "      <td>3.581035</td>\n",
       "    </tr>\n",
       "  </tbody>\n",
       "</table>\n",
       "</div>"
      ],
      "text/plain": [
       "        roc_auc  log_loss\n",
       "score  0.499889  3.581035"
      ]
     },
     "execution_count": 48,
     "metadata": {},
     "output_type": "execute_result"
    }
   ],
   "source": [
    "model = LogisticRegression(random_state=0, max_iter=5000, C=0.001)\n",
    "logreGS = model.fit(X_train, y_train)\n",
    "\n",
    "estimates = {'roc_auc': [metrics.roc_auc_score(y_train, logreGS.predict(X_train))],\n",
    "             'log_loss': [metrics.log_loss(y_train, logreGS.predict(X_train))]}\n",
    "\n",
    "estimates_LogReg = pd.DataFrame(estimates, index = ['score'])\n",
    "estimates_LogReg"
   ]
  },
  {
   "cell_type": "code",
   "execution_count": null,
   "metadata": {},
   "outputs": [],
   "source": []
  },
  {
   "cell_type": "code",
   "execution_count": 49,
   "metadata": {},
   "outputs": [],
   "source": [
    "from sklearn.metrics import precision_recall_fscore_support"
   ]
  },
  {
   "cell_type": "code",
   "execution_count": 52,
   "metadata": {},
   "outputs": [
    {
     "data": {
      "text/plain": [
       "(array([0.94949068, 0.97398092]),\n",
       " array([0.99833518, 0.53990385]),\n",
       " array([0.97330051, 0.69471079]),\n",
       " array([18020,  2080], dtype=int64))"
      ]
     },
     "execution_count": 52,
     "metadata": {},
     "output_type": "execute_result"
    }
   ],
   "source": [
    "precision_recall_fscore_support(y_train, logregres.predict(X_train))"
   ]
  },
  {
   "cell_type": "code",
   "execution_count": 53,
   "metadata": {},
   "outputs": [
    {
     "name": "stdout",
     "output_type": "stream",
     "text": [
      "precision: [0.89747601 0.16987179]\n",
      "recall: [0.97078069 0.0511583 ]\n",
      "fscore: [0.93269022 0.07863501]\n",
      "support: [8864 1036]\n"
     ]
    }
   ],
   "source": [
    "precision, recall, fscore, support = precision_recall_fscore_support(y_test, logregres.predict(X_test), labels=[0, 1])\n",
    "\n",
    "print('precision: {}'.format(precision))\n",
    "print('recall: {}'.format(recall))\n",
    "print('fscore: {}'.format(fscore))\n",
    "print('support: {}'.format(support))"
   ]
  },
  {
   "cell_type": "code",
   "execution_count": 55,
   "metadata": {},
   "outputs": [
    {
     "data": {
      "text/html": [
       "<div>\n",
       "<style scoped>\n",
       "    .dataframe tbody tr th:only-of-type {\n",
       "        vertical-align: middle;\n",
       "    }\n",
       "\n",
       "    .dataframe tbody tr th {\n",
       "        vertical-align: top;\n",
       "    }\n",
       "\n",
       "    .dataframe thead th {\n",
       "        text-align: right;\n",
       "    }\n",
       "</style>\n",
       "<table border=\"1\" class=\"dataframe\">\n",
       "  <thead>\n",
       "    <tr style=\"text-align: right;\">\n",
       "      <th></th>\n",
       "      <th>0</th>\n",
       "      <th>1</th>\n",
       "    </tr>\n",
       "  </thead>\n",
       "  <tbody>\n",
       "    <tr>\n",
       "      <th>0</th>\n",
       "      <td>8605</td>\n",
       "      <td>259</td>\n",
       "    </tr>\n",
       "    <tr>\n",
       "      <th>1</th>\n",
       "      <td>983</td>\n",
       "      <td>53</td>\n",
       "    </tr>\n",
       "  </tbody>\n",
       "</table>\n",
       "</div>"
      ],
      "text/plain": [
       "      0    1\n",
       "0  8605  259\n",
       "1   983   53"
      ]
     },
     "execution_count": 55,
     "metadata": {},
     "output_type": "execute_result"
    }
   ],
   "source": [
    "conf_mat = metrics.confusion_matrix(y_test, logregres.predict(X_test))\n",
    "conf_mat = pd.DataFrame(conf_mat, index=logregres.classes_, columns=logregres.classes_)\n",
    "conf_mat"
   ]
  },
  {
   "cell_type": "code",
   "execution_count": 56,
   "metadata": {},
   "outputs": [
    {
     "name": "stdout",
     "output_type": "stream",
     "text": [
      "              precision    recall  f1-score   support\n",
      "\n",
      "           0       0.90      0.97      0.93      8864\n",
      "           1       0.17      0.05      0.08      1036\n",
      "\n",
      "    accuracy                           0.87      9900\n",
      "   macro avg       0.53      0.51      0.51      9900\n",
      "weighted avg       0.82      0.87      0.84      9900\n",
      "\n"
     ]
    }
   ],
   "source": [
    "print (metrics.classification_report(y_test, logregres.predict(X_test)))"
   ]
  },
  {
   "cell_type": "markdown",
   "metadata": {},
   "source": [
    "Лучшая модель с лог регрессией (была). Сейчас MultinomialNB"
   ]
  },
  {
   "cell_type": "code",
   "execution_count": 57,
   "metadata": {},
   "outputs": [],
   "source": [
    "pred_test = logregres.predict(X_test)"
   ]
  },
  {
   "cell_type": "code",
   "execution_count": 58,
   "metadata": {},
   "outputs": [
    {
     "data": {
      "text/plain": [
       "0.8745454545454545"
      ]
     },
     "execution_count": 58,
     "metadata": {},
     "output_type": "execute_result"
    }
   ],
   "source": [
    "logregres.score(X_test, y_test)"
   ]
  },
  {
   "cell_type": "code",
   "execution_count": 59,
   "metadata": {},
   "outputs": [],
   "source": [
    "from sklearn.metrics import accuracy_score"
   ]
  },
  {
   "cell_type": "code",
   "execution_count": 60,
   "metadata": {},
   "outputs": [
    {
     "data": {
      "text/plain": [
       "0.8745454545454545"
      ]
     },
     "execution_count": 60,
     "metadata": {},
     "output_type": "execute_result"
    }
   ],
   "source": [
    "accuracy_score(y_test, pred_test)"
   ]
  },
  {
   "cell_type": "code",
   "execution_count": 61,
   "metadata": {},
   "outputs": [
    {
     "data": {
      "text/plain": [
       "0.8641414141414141"
      ]
     },
     "execution_count": 61,
     "metadata": {},
     "output_type": "execute_result"
    }
   ],
   "source": [
    "NB.score(X_test, y_test)"
   ]
  },
  {
   "cell_type": "code",
   "execution_count": 62,
   "metadata": {},
   "outputs": [],
   "source": [
    "# accuracy Log regression > accuracy NB\n",
    "predict_proba = logregres.predict_proba(X_countVec_test)[:,1]"
   ]
  },
  {
   "cell_type": "code",
   "execution_count": 63,
   "metadata": {},
   "outputs": [],
   "source": [
    "indexes = []\n",
    "for i in range(len(predict_proba)):\n",
    "    if predict_proba[i] > 0.5:\n",
    "        indexes.append(i)"
   ]
  },
  {
   "cell_type": "code",
   "execution_count": 64,
   "metadata": {},
   "outputs": [
    {
     "data": {
      "text/plain": [
       "340"
      ]
     },
     "execution_count": 64,
     "metadata": {},
     "output_type": "execute_result"
    }
   ],
   "source": [
    "len(indexes)"
   ]
  },
  {
   "cell_type": "code",
   "execution_count": 65,
   "metadata": {},
   "outputs": [],
   "source": [
    "predict = logregres.predict(X_countVec_test)"
   ]
  },
  {
   "cell_type": "code",
   "execution_count": 66,
   "metadata": {},
   "outputs": [
    {
     "data": {
      "text/plain": [
       "array([0, 0, 0, ..., 0, 0, 0], dtype=int64)"
      ]
     },
     "execution_count": 66,
     "metadata": {},
     "output_type": "execute_result"
    }
   ],
   "source": [
    "predict"
   ]
  },
  {
   "cell_type": "code",
   "execution_count": 67,
   "metadata": {},
   "outputs": [
    {
     "data": {
      "text/plain": [
       "340"
      ]
     },
     "execution_count": 67,
     "metadata": {},
     "output_type": "execute_result"
    }
   ],
   "source": [
    "sum(predict)"
   ]
  },
  {
   "cell_type": "code",
   "execution_count": 68,
   "metadata": {},
   "outputs": [],
   "source": [
    "indexes_binary = []\n",
    "for i in range(len(predict)):\n",
    "    if predict[i] == 1:\n",
    "        indexes_binary.append(i)"
   ]
  },
  {
   "cell_type": "code",
   "execution_count": 69,
   "metadata": {},
   "outputs": [
    {
     "data": {
      "text/plain": [
       "True"
      ]
     },
     "execution_count": 69,
     "metadata": {},
     "output_type": "execute_result"
    }
   ],
   "source": [
    "indexes_binary==indexes"
   ]
  },
  {
   "cell_type": "code",
   "execution_count": 70,
   "metadata": {},
   "outputs": [],
   "source": [
    "result = pd.DataFrame(predict_proba)"
   ]
  },
  {
   "cell_type": "code",
   "execution_count": 71,
   "metadata": {},
   "outputs": [
    {
     "name": "stdout",
     "output_type": "stream",
     "text": [
      "<class 'pandas.core.frame.DataFrame'>\n",
      "RangeIndex: 11087 entries, 0 to 11086\n",
      "Data columns (total 2 columns):\n",
      " #   Column  Non-Null Count  Dtype  \n",
      "---  ------  --------------  -----  \n",
      " 0   0       11087 non-null  int64  \n",
      " 1   1       11087 non-null  float64\n",
      "dtypes: float64(1), int64(1)\n",
      "memory usage: 173.4 KB\n",
      "None\n"
     ]
    },
    {
     "data": {
      "text/html": [
       "<div>\n",
       "<style scoped>\n",
       "    .dataframe tbody tr th:only-of-type {\n",
       "        vertical-align: middle;\n",
       "    }\n",
       "\n",
       "    .dataframe tbody tr th {\n",
       "        vertical-align: top;\n",
       "    }\n",
       "\n",
       "    .dataframe thead th {\n",
       "        text-align: right;\n",
       "    }\n",
       "</style>\n",
       "<table border=\"1\" class=\"dataframe\">\n",
       "  <thead>\n",
       "    <tr style=\"text-align: right;\">\n",
       "      <th></th>\n",
       "      <th>0</th>\n",
       "      <th>1</th>\n",
       "    </tr>\n",
       "  </thead>\n",
       "  <tbody>\n",
       "    <tr>\n",
       "      <th>0</th>\n",
       "      <td>30001</td>\n",
       "      <td>0.213623</td>\n",
       "    </tr>\n",
       "    <tr>\n",
       "      <th>1</th>\n",
       "      <td>30002</td>\n",
       "      <td>0.535675</td>\n",
       "    </tr>\n",
       "    <tr>\n",
       "      <th>2</th>\n",
       "      <td>30003</td>\n",
       "      <td>0.041250</td>\n",
       "    </tr>\n",
       "    <tr>\n",
       "      <th>3</th>\n",
       "      <td>30004</td>\n",
       "      <td>0.603919</td>\n",
       "    </tr>\n",
       "    <tr>\n",
       "      <th>4</th>\n",
       "      <td>30005</td>\n",
       "      <td>0.390166</td>\n",
       "    </tr>\n",
       "  </tbody>\n",
       "</table>\n",
       "</div>"
      ],
      "text/plain": [
       "       0         1\n",
       "0  30001  0.213623\n",
       "1  30002  0.535675\n",
       "2  30003  0.041250\n",
       "3  30004  0.603919\n",
       "4  30005  0.390166"
      ]
     },
     "execution_count": 71,
     "metadata": {},
     "output_type": "execute_result"
    }
   ],
   "source": [
    "baseline = pd.read_csv('baseline_solution.csv',sep=',',header=None)\n",
    "print(baseline.info())\n",
    "baseline.head()"
   ]
  },
  {
   "cell_type": "code",
   "execution_count": 72,
   "metadata": {},
   "outputs": [],
   "source": [
    "baseline[1]=predict_proba"
   ]
  },
  {
   "cell_type": "code",
   "execution_count": null,
   "metadata": {},
   "outputs": [],
   "source": [
    "baseline.to_csv('solution_clever.csv', sep=',', header=False, index=False)"
   ]
  },
  {
   "cell_type": "code",
   "execution_count": null,
   "metadata": {},
   "outputs": [],
   "source": []
  }
 ],
 "metadata": {
  "kernelspec": {
   "display_name": "Python 3",
   "language": "python",
   "name": "python3"
  },
  "language_info": {
   "codemirror_mode": {
    "name": "ipython",
    "version": 3
   },
   "file_extension": ".py",
   "mimetype": "text/x-python",
   "name": "python",
   "nbconvert_exporter": "python",
   "pygments_lexer": "ipython3",
   "version": "3.8.5"
  }
 },
 "nbformat": 4,
 "nbformat_minor": 2
}
